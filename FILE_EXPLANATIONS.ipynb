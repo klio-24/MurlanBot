{
 "cells": [
  {
   "cell_type": "markdown",
   "metadata": {},
   "source": [
    "deal.py:\n",
    "\n",
    "Takes the round, takes the deck, shuffles it and disperses out just like in real life. The round determines how many cards are given."
   ]
  },
  {
   "cell_type": "markdown",
   "metadata": {},
   "source": [
    "deck.py:\n",
    "\n",
    "Code to just form the deck with information on card, suit, and it's relative power."
   ]
  },
  {
   "cell_type": "markdown",
   "metadata": {},
   "source": [
    "possible_moves_for_hand.py:\n",
    "\n",
    "WORK IN PROGRESS\n",
    "\n",
    "takes what's currently on the table and refines playable moves down to legal moves"
   ]
  },
  {
   "cell_type": "markdown",
   "metadata": {},
   "source": [
    "playable_moves_for_hand.py:\n",
    "\n",
    "WORK IN PROGRESS\n",
    "\n",
    "refines possible moves to take into account what the opponent played."
   ]
  },
  {
   "cell_type": "markdown",
   "metadata": {},
   "source": [
    "who_starts:\n",
    "\n",
    "determines who starts based on the three of spades"
   ]
  },
  {
   "cell_type": "markdown",
   "metadata": {},
   "source": []
  }
 ],
 "metadata": {
  "language_info": {
   "name": "python"
  }
 },
 "nbformat": 4,
 "nbformat_minor": 2
}

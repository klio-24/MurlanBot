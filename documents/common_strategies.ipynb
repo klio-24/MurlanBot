{
 "cells": [
  {
   "cell_type": "markdown",
   "metadata": {},
   "source": [
    "if both players have two cards, the second player puts his biggest card first to try block the first player from placing his second card"
   ]
  },
  {
   "cell_type": "markdown",
   "metadata": {},
   "source": [
    "something like if the play is in singles, it doesn't make sense to do your second lowest playable card, unless you know that they can't beat that either, and you have other singles as parts of straights, and want to reserve your higher singles for a double 2 etc."
   ]
  }
 ],
 "metadata": {
  "language_info": {
   "name": "python"
  }
 },
 "nbformat": 4,
 "nbformat_minor": 2
}

{
 "cells": [
  {
   "cell_type": "markdown",
   "metadata": {},
   "source": [
    "if both players have two cards, the second player puts his biggest card first to try block the first player from placing his second card"
   ]
  },
  {
   "cell_type": "markdown",
   "metadata": {},
   "source": []
  }
 ],
 "metadata": {
  "language_info": {
   "name": "python"
  }
 },
 "nbformat": 4,
 "nbformat_minor": 2
}

{
 "cells": [
  {
   "cell_type": "markdown",
   "metadata": {},
   "source": [
    "\n",
    "<b>Further work</b>\n",
    "\n",
    "\n",
    "1. Extend the AI model to do a 2v2/\n",
    "."
   ]
  },
  {
   "cell_type": "markdown",
   "metadata": {},
   "source": [
    "Section guide based on FYP:\n",
    "\n",
    "- Introduction (motivation + project aims)\n",
    "- Background (incl. related work)\n",
    "- Implementation\n",
    "- Results\n",
    "- Evaluation\n",
    "- Conclusion"
   ]
  }
 ],
 "metadata": {
  "language_info": {
   "name": "python"
  }
 },
 "nbformat": 4,
 "nbformat_minor": 2
}

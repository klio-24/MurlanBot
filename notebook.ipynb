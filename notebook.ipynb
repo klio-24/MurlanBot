{
 "cells": [
  {
   "cell_type": "markdown",
   "metadata": {},
   "source": [
    "Log:\n",
    "\n",
    "6/12 - when making this code I'm going to try google as little as possible, even how to format the card system, and then review and modify after\n",
    "\n",
    "going to use python dictionaries as the key value thing works well\n",
    "then all the dictionaries together form a list\n",
    "\n",
    "ok so from this video it seems the AI strategy should be ISMCTS as the game is too complex to create evaluation function, and cant use MCTS as other player is involved. I think this means I need to make a 'possible moves' list for each hand, then the process picks from this\n",
    "\n",
    "7/12 - making two files, one which is a library for all possible moves, one of them is a function which then extracts only the ones which are possible from a game situation. This links into the monte carlo thing because I need a way to play a random move from all possible moves. Just not sure what the right data structure is because possible moves will form a three dimensional. WAIT just realised I just need to make the function, and the library of possible moves can come from just passing the whole deck to the function.\n",
    "\n",
    "17/3 - it's tempting to do the website at the start to 'get it out the way' but it's still a time sink that provides very little improvement to your employability because everyone knows front-end, so focus on implementing the actual engine, you can just do the website at the end as it's the simplest part\n",
    "\n",
    "18/3 - not implementing prison straight\n",
    "\n",
    "19/3 - checking how many possible combinations for straights made me now plan to skip straights altogether as there will also be big training requirements - I really want a minimum viable product as soon as possible.\n",
    "\n",
    "I'm also going to skip quads because they have the power to take a turn, so I'll implement that behaviour later.\n",
    "\n",
    "20/3 - realising from the Wanieru video that the MCTS is seperate from the ML, and e.g. alphago uses ML for a seperate thing which I don't understand yet (policy network and value network)\n",
    "So my first step should be make an MCTS before I deal with the ML model.\n",
    "\n",
    "21/3 - the more I think about it the more I realise an ML model might not be needed. down the line maybe yes, when I refine it, but for e.g. the second round is just MCTS and then later I can add on ML\n",
    "\n",
    "4/4 - reducing scope based on genas friend advice. just MCTS with some sql on web services with a basic website command line interface\n",
    "\n",
    "\n",
    "24/4 - I BOUGHT murlanbot.xyz"
   ]
  },
  {
   "cell_type": "markdown",
   "metadata": {},
   "source": [
    "Overall process:\n",
    "-\tMake simple game simulation, where the bot just plays heuristically doing the lowest possible move\n",
    "-\tCreate an MCTS model for optimal play\n",
    "-\tMake a website that allows you to play the game, and the bot’s moves are demonstrated too\n",
    "-\tHost the game on microservices\n",
    "-\tWrite readme, cleanup github\n",
    "\n",
    "To Do:\n",
    "- DEFINITELY DO A FULL WRITE UP WITH UML, SYSTEM DIAGRAMS, FULL EXPLANATIONS ETC. it will help with your understanding\n",
    "-\ton the website add a display that shows how many times its won and lost\n",
    "-\thttps://www.youtube.com/watch?v=IQLkPgkLMNg&ab_channel=Wanieru \n",
    "-  https://www.youtube.com/watch?v=EB-NJtNERBQ + https://www.harrycodes.com/blog/monte-carlo-tree-search - main example for MCTS\n",
    "\n",
    "\n",
    "\n",
    "To add LATER:\n",
    "- determine optimal card to give for second round if AI wins\n",
    "- implement policy/value network or general ML with relevant loss functions\n",
    "- implement a probability of winning at each turn just like alphago\n",
    "-\thttps://www.catsatcards.com/Games/Murlan.htm lay out rules on the website in a logical way\n",
    "- from the Wanieru video, look into the Information Set card mixing bluffing thing more, and how you can exploit the behaviours of the average murlan player\n",
    "-\tWould be interesting to see if the right ‘behaviours’ emerge from self-learning, e.g. putting your highest card down when you've got two cards left\n",
    "-\tRead this https://www.pagat.com/docs/sps2172.pdf\n",
    "-   http://karpathy.github.io/2019/04/25/recipe/\n",
    "- skipping turn as a strategy\n",
    "- implement quads\n",
    "- implement straightsz \n",
    "- do an actual front end\n",
    "- watch a video on how the best go bot works (https://jonathan-hui.medium.com/alphago-how-it-works-technically-26ddcc085319 - read and fully understand this too) \n",
    "-  https://www.youtube.com/watch?v=62nq4Zsn8vc the guy said the way you train your policy network is to train it to give the same outputs as your MCTS???"
   ]
  },
  {
   "cell_type": "markdown",
   "metadata": {},
   "source": [
    "<b>Possible moves:</b>\n",
    "- Single – 54\n",
    "- Double – 52 cards, 6 for each suit, (4C2) x 13 = 78\n",
    "- Triple – 4C3  x 13 = 52\n",
    "- Quadruple – 13\n",
    "\n",
    "total possible moves without straights:\n",
    "\n",
    "197\n",
    "\n",
    "Straight:\n",
    "5 cards to 13 cards, cant cycle to 3\n",
    "13P5*4^5 + 13P6^6 + … = 119301120\n",
    "\n",
    "TOTAL = 119301317\n",
    "\n"
   ]
  },
  {
   "cell_type": "markdown",
   "metadata": {},
   "source": [
    "\n",
    "based on that 'I created an AI to play this card game because my friends dropped out video', a crude evaluation function could be total rank value of cards in hand, BUT THEN HOW DO YOU TAKE INTO ACCOUNT STRAIGHTS/TRIPLES - SEE HOW POKER DOES IT."
   ]
  }
 ],
 "metadata": {
  "language_info": {
   "name": "python"
  }
 },
 "nbformat": 4,
 "nbformat_minor": 2
}

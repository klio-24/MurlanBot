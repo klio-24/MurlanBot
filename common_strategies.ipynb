{
 "cells": [
  {
   "cell_type": "markdown",
   "metadata": {},
   "source": [
    "If a both players have two cards left, and player 1 plays a card, player 2 should play their highest card first to give themselves the highest chance to beat player 1's card, because then if successful they get a free turn."
   ]
  },
  {
   "cell_type": "markdown",
   "metadata": {},
   "source": [
    "Getting rid of singular cards on a free turn, or getting rid of a big straight with a very low chance of being contested."
   ]
  }
 ],
 "metadata": {
  "language_info": {
   "name": "python"
  }
 },
 "nbformat": 4,
 "nbformat_minor": 2
}

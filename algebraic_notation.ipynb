{
 "cells": [
  {
   "cell_type": "markdown",
   "metadata": {},
   "source": [
    "This file lays out the standard for algebraic notation for logging murlan games. Chess has something similar https://en.wikipedia.org/wiki/Algebraic_notation_(chess)\n",
    "\n",
    "The motivation for developing this is a compact way to present and store training data, so it should be easy to go from this to data which can be accepted by the model and software, as well as easy for a game to be parsed into this format\n",
    "\n",
    "Format this algabraic notation as a JSON."
   ]
  },
  {
   "cell_type": "markdown",
   "metadata": {},
   "source": [
    "5 types of hand:\n",
    "single\n",
    "double\n",
    "triple\n",
    "quad\n",
    "straight\n",
    "\n",
    "also you can 'skip'\n",
    "\n",
    "SI,DO,TR,QU,ST,SKIP\n",
    "then we need some non alphanumeric number to split\n",
    "\n",
    "the cards:\n",
    "\n",
    "3\n",
    "4\n",
    "5\n",
    "6\n",
    "7\n",
    "8\n",
    "9\n",
    "10\n",
    "J\n",
    "Q\n",
    "K\n",
    "A\n",
    "JOBL\n",
    "JORE\n",
    "\n",
    "the four suits:\n",
    "-\n",
    "S\n",
    "C\n",
    "D\n",
    "H\n",
    "\n",
    "so triple would be like\n",
    "\n",
    "TR-3S,3D,3C\n",
    "\n",
    "similar to chess, each full round is one row, so e.g.\n",
    "\n",
    "1. TR-4S,4D,4C SKIP\n",
    "2. SI-5C\n",
    "\n",
    "\n",
    "add a ROUND2 when first round is done, no need for END at end of second round"
   ]
  }
 ],
 "metadata": {
  "language_info": {
   "name": "python"
  }
 },
 "nbformat": 4,
 "nbformat_minor": 2
}

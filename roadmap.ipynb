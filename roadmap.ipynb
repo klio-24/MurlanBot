{
 "cells": [
  {
   "cell_type": "markdown",
   "metadata": {},
   "source": [
    "THREE KEY COMPONENTS:\n",
    "1.\tWebsite\n",
    "2.\tAI Engine\n",
    "3.\tPython game simulation + cloud implementation\n",
    "\n",
    "-\tMake simple game simulation, where the bot just plays heuristically doing the lowest possible move (this means programming the possible moves list)\n",
    "-\tMake a local web page layout that allows you to play the game with a mouse, and the bot’s move are demonstrated too\n",
    "-\tHost the game on microservices\n",
    "-\tTest phone compatibility\n",
    "-\tWrite report, cleanup github\n",
    "-\tPost linkedin\n",
    "\n",
    "17/3 - it's tempting to do the website at the start to 'get it out the way' but it's still a time sink that provides very little improvement to your employability because everyone knows front-end, so focus on implementing the actual engine, you can just do the website at the end as it's the simplest part\n",
    "\n",
    "STEP-BY-STEP\n",
    "\n",
    "- finish possible_moves and playable_moves\n",
    "- create simple_bot\n",
    "- create simple AI (need to flesh this out - not sure where to start)\n"
   ]
  }
 ],
 "metadata": {
  "language_info": {
   "name": "python"
  }
 },
 "nbformat": 4,
 "nbformat_minor": 2
}

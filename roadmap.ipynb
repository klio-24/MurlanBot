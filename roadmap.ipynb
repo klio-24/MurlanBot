{
 "cells": [
  {
   "cell_type": "markdown",
   "metadata": {},
   "source": [
    "THREE KEY COMPONENTS:\n",
    "1.\tWebsite\n",
    "2.\tAI Engine\n",
    "3.\tPython game simulation + cloud implementation\n",
    "\n",
    "-\tMake simple game simulation, where the bot just plays heuristically doing the lowest possible move (this means programming the possible moves list)\n",
    "-\tMake a local web page layout that allows you to play the game with a mouse, and the bot’s move are demonstrated too\n",
    "-\tHost the game on microservices\n",
    "-\tTest phone compatibility\n",
    "-\tWrite report, cleanup github\n",
    "-\tPost linkedin\n"
   ]
  }
 ],
 "metadata": {
  "language_info": {
   "name": "python"
  }
 },
 "nbformat": 4,
 "nbformat_minor": 2
}
